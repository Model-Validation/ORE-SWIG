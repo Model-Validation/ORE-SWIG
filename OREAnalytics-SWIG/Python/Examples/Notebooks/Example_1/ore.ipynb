{
 "cells": [
  {
   "cell_type": "markdown",
   "metadata": {
    "extensions": {
     "jupyter_dashboards": {
      "version": 1,
      "views": {
       "grid_default": {
        "col": 0,
        "height": 4,
        "hidden": true,
        "row": 20,
        "width": 4
       },
       "report_default": {
        "hidden": false
       }
      }
     }
    }
   },
   "source": [
    "\n",
    "# Getting Started"
   ]
  },
  {
   "cell_type": "markdown",
   "metadata": {
    "extensions": {
     "jupyter_dashboards": {
      "version": 1,
      "views": {
       "grid_default": {
        "col": 4,
        "height": 4,
        "hidden": true,
        "row": 26,
        "width": 4
       },
       "report_default": {
        "hidden": false
       }
      }
     }
    }
   },
   "source": [
    "This dashboard demonstrates several ways of interacting with ORE in a Jupyter notebook \n",
    "- Portfolio: Single Swap\n",
    "- Market: Minimal setup with flat curves\n",
    "- Analytics: Valuation, cashflows, sensitivities, exposure simulation and XVA\n",
    "\n",
    "Prerequisites:\n",
    "- Python 3\n",
    "- ORE Python module: run \"**pip install open-source-risk-engine**\" to get the latest version"
   ]
  },
  {
   "cell_type": "markdown",
   "metadata": {
    "extensions": {
     "jupyter_dashboards": {
      "version": 1,
      "views": {
       "grid_default": {
        "col": 0,
        "height": 2,
        "hidden": false,
        "row": 0,
        "width": 12
       },
       "report_default": {
        "hidden": false
       }
      }
     }
    }
   },
   "source": [
    "## Launch ORE"
   ]
  },
  {
   "cell_type": "markdown",
   "metadata": {
    "extensions": {
     "jupyter_dashboards": {
      "version": 1,
      "views": {
       "grid_default": {
        "col": 0,
        "height": 4,
        "hidden": true,
        "row": 12,
        "width": 12
       },
       "report_default": {
        "hidden": false
       }
      }
     }
    },
    "tags": []
   },
   "source": [
    "Kick off a process in ORE, loading all inputs from Input/ore.xml and the files referenced therein. \n",
    "This is equivalent to using the ORE command line application."
   ]
  },
  {
   "cell_type": "code",
   "execution_count": 1,
   "metadata": {
    "extensions": {
     "jupyter_dashboards": {
      "version": 1,
      "views": {
       "grid_default": {
        "hidden": true
       },
       "report_default": {
        "hidden": true
       }
      }
     }
    },
    "scrolled": true,
    "tags": []
   },
   "outputs": [],
   "source": [
    "from ORE import *\n",
    "import sys, time, math\n",
    "sys.path.append('..')\n",
    "import utilities\n",
    "\n",
    "params = Parameters()\n",
    "params.fromFile(\"Input/ore.xml\")\n",
    "\n",
    "ore = OREApp(params)"
   ]
  },
  {
   "cell_type": "markdown",
   "metadata": {
    "extensions": {
     "jupyter_dashboards": {
      "version": 1,
      "views": {
       "grid_default": {
        "col": 0,
        "height": 4,
        "hidden": true,
        "row": 12,
        "width": 12
       },
       "report_default": {
        "hidden": false
       }
      }
     }
    },
    "tags": []
   },
   "source": [
    "**This should have loaded the main inputs**\n",
    "- portfolio\n",
    "- today's market configuration\n",
    "- conventions\n",
    "- curve configrations\n",
    "- pricing engine configuration\n",
    "\n",
    "see Input/ore.xml. We spot check the loaded portfolio, print the xml tree to the screen:"
   ]
  },
  {
   "cell_type": "code",
   "execution_count": 2,
   "metadata": {
    "extensions": {
     "jupyter_dashboards": {
      "version": 1,
      "views": {
       "grid_default": {
        "hidden": true
       },
       "report_default": {
        "hidden": true
       }
      }
     }
    },
    "tags": []
   },
   "outputs": [
    {
     "name": "stdout",
     "output_type": "stream",
     "text": [
      "Trades: 1\n",
      "Trade:  id=Swap type=Swap\n",
      "\n",
      "<Portfolio>\n",
      "\t<Trade id=\"Swap\">\n",
      "\t\t<TradeType>Swap</TradeType>\n",
      "\t\t<Envelope>\n",
      "\t\t\t<CounterParty>CPTY_A</CounterParty>\n",
      "\t\t\t<NettingSetId>CPTY_A</NettingSetId>\n",
      "\t\t\t<PortfolioIds/>\n",
      "\t\t\t<AdditionalFields/>\n",
      "\t\t</Envelope>\n",
      "\t\t<SwapData>\n",
      "\t\t\t<LegData>\n",
      "\t\t\t\t<LegType>Fixed</LegType>\n",
      "\t\t\t\t<Payer>false</Payer>\n",
      "\t\t\t\t<Currency>EUR</Currency>\n",
      "\t\t\t\t<PaymentConvention>MF</PaymentConvention>\n",
      "\t\t\t\t<DayCounter>A360</DayCounter>\n",
      "\t\t\t\t<Notionals>\n",
      "\t\t\t\t\t<Notional>10000000.000000</Notional>\n",
      "\t\t\t\t\t<Exchanges>\n",
      "\t\t\t\t\t\t<NotionalInitialExchange>false</NotionalInitialExchange>\n",
      "\t\t\t\t\t\t<NotionalFinalExchange>false</NotionalFinalExchange>\n",
      "\t\t\t\t\t\t<NotionalAmortizingExchange>false</NotionalAmortizingExchange>\n",
      "\t\t\t\t\t</Exchanges>\n",
      "\t\t\t\t</Notionals>\n",
      "\t\t\t\t<ScheduleData>\n",
      "\t\t\t\t\t<Rules>\n",
      "\t\t\t\t\t\t<StartDate>20160209</StartDate>\n",
      "\t\t\t\t\t\t<EndDate>20360209</EndDate>\n",
      "\t\t\t\t\t\t<Tenor>1Y</Tenor>\n",
      "\t\t\t\t\t\t<Calendar>TARGET</Calendar>\n",
      "\t\t\t\t\t\t<Convention>MF</Convention>\n",
      "\t\t\t\t\t\t<TermConvention>MF</TermConvention>\n",
      "\t\t\t\t\t\t<Rule>Forward</Rule>\n",
      "\t\t\t\t\t\t<EndOfMonth/>\n",
      "\t\t\t\t\t\t<FirstDate/>\n",
      "\t\t\t\t\t\t<LastDate/>\n",
      "\t\t\t\t\t</Rules>\n",
      "\t\t\t\t</ScheduleData>\n",
      "\t\t\t\t<FixedLegData>\n",
      "\t\t\t\t\t<Rates>\n",
      "\t\t\t\t\t\t<Rate>0.021000</Rate>\n",
      "\t\t\t\t\t</Rates>\n",
      "\t\t\t\t</FixedLegData>\n",
      "\t\t\t</LegData>\n",
      "\t\t\t<LegData>\n",
      "\t\t\t\t<LegType>Floating</LegType>\n",
      "\t\t\t\t<Payer>true</Payer>\n",
      "\t\t\t\t<Currency>EUR</Currency>\n",
      "\t\t\t\t<PaymentConvention>MF</PaymentConvention>\n",
      "\t\t\t\t<DayCounter>A360</DayCounter>\n",
      "\t\t\t\t<Notionals>\n",
      "\t\t\t\t\t<Notional>10000000.000000</Notional>\n",
      "\t\t\t\t\t<Exchanges>\n",
      "\t\t\t\t\t\t<NotionalInitialExchange>false</NotionalInitialExchange>\n",
      "\t\t\t\t\t\t<NotionalFinalExchange>false</NotionalFinalExchange>\n",
      "\t\t\t\t\t\t<NotionalAmortizingExchange>false</NotionalAmortizingExchange>\n",
      "\t\t\t\t\t</Exchanges>\n",
      "\t\t\t\t</Notionals>\n",
      "\t\t\t\t<ScheduleData>\n",
      "\t\t\t\t\t<Rules>\n",
      "\t\t\t\t\t\t<StartDate>20160209</StartDate>\n",
      "\t\t\t\t\t\t<EndDate>20360209</EndDate>\n",
      "\t\t\t\t\t\t<Tenor>6M</Tenor>\n",
      "\t\t\t\t\t\t<Calendar>TARGET</Calendar>\n",
      "\t\t\t\t\t\t<Convention>MF</Convention>\n",
      "\t\t\t\t\t\t<TermConvention>MF</TermConvention>\n",
      "\t\t\t\t\t\t<Rule>Forward</Rule>\n",
      "\t\t\t\t\t\t<EndOfMonth/>\n",
      "\t\t\t\t\t\t<FirstDate/>\n",
      "\t\t\t\t\t\t<LastDate/>\n",
      "\t\t\t\t\t</Rules>\n",
      "\t\t\t\t</ScheduleData>\n",
      "\t\t\t\t<FloatingLegData>\n",
      "\t\t\t\t\t<Index>EUR-EURIBOR-6M</Index>\n",
      "\t\t\t\t\t<IsInArrears>false</IsInArrears>\n",
      "\t\t\t\t\t<IsAveraged>false</IsAveraged>\n",
      "\t\t\t\t\t<HasSubPeriods>false</HasSubPeriods>\n",
      "\t\t\t\t\t<IncludeSpread>false</IncludeSpread>\n",
      "\t\t\t\t\t<FixingDays>2</FixingDays>\n",
      "\t\t\t\t\t<Caps/>\n",
      "\t\t\t\t\t<Floors/>\n",
      "\t\t\t\t\t<Gearings/>\n",
      "\t\t\t\t\t<Spreads>\n",
      "\t\t\t\t\t\t<Spread>0.000000</Spread>\n",
      "\t\t\t\t\t</Spreads>\n",
      "\t\t\t\t\t<NakedOption>false</NakedOption>\n",
      "\t\t\t\t</FloatingLegData>\n",
      "\t\t\t</LegData>\n",
      "\t\t</SwapData>\n",
      "\t</Trade>\n",
      "</Portfolio>\n",
      "\n",
      "\n"
     ]
    }
   ],
   "source": [
    "portfolio = ore.getInputs().portfolio()\n",
    "print(\"Trades:\", portfolio.size())\n",
    "for id in portfolio.ids():\n",
    "    trade = portfolio.get(id)\n",
    "    print(\"Trade:  id=%s type=%s\" % (id, trade.tradeType()))\n",
    "\n",
    "portfolioXML = portfolio.toXMLString()\n",
    "print()\n",
    "print(portfolioXML)"
   ]
  },
  {
   "cell_type": "markdown",
   "metadata": {
    "extensions": {
     "jupyter_dashboards": {
      "version": 1,
      "views": {
       "grid_default": {
        "col": 0,
        "height": 4,
        "hidden": true,
        "row": 12,
        "width": 12
       },
       "report_default": {
        "hidden": false
       }
      }
     }
    }
   },
   "source": [
    "**Kick off the ORE process**"
   ]
  },
  {
   "cell_type": "code",
   "execution_count": 3,
   "metadata": {
    "extensions": {
     "jupyter_dashboards": {
      "version": 1,
      "views": {
       "grid_default": {
        "hidden": true
       },
       "report_default": {
        "hidden": true
       }
      }
     }
    },
    "scrolled": true,
    "tags": []
   },
   "outputs": [
    {
     "name": "stdout",
     "output_type": "stream",
     "text": [
      "Run time: 0.06 sec\n",
      "Errors: 0\n"
     ]
    }
   ],
   "source": [
    "ore.run()\n",
    "\n",
    "utilities.checkErrorsAndRunTime(ore)      "
   ]
  },
  {
   "cell_type": "markdown",
   "metadata": {
    "extensions": {
     "jupyter_dashboards": {
      "version": 1,
      "views": {
       "grid_default": {
        "col": 0,
        "height": 2,
        "hidden": false,
        "row": 7,
        "width": 12
       },
       "report_default": {
        "hidden": false
       }
      }
     }
    }
   },
   "source": [
    "## Query Results"
   ]
  },
  {
   "cell_type": "markdown",
   "metadata": {
    "extensions": {
     "jupyter_dashboards": {
      "version": 1,
      "views": {
       "grid_default": {
        "col": 0,
        "height": 4,
        "hidden": true,
        "row": 31,
        "width": 12
       },
       "report_default": {
        "hidden": false
       }
      }
     }
    },
    "tags": []
   },
   "source": [
    "The results of the ORE run above have been written to the Output folder.\n",
    "Moreover all results are stored in memory and can be queried as follows.\n",
    "\n",
    "First, double-check which analytics we have requested, see Input/ore.xml:"
   ]
  },
  {
   "cell_type": "code",
   "execution_count": 4,
   "metadata": {
    "extensions": {
     "jupyter_dashboards": {
      "version": 1,
      "views": {
       "grid_default": {
        "hidden": true
       },
       "report_default": {
        "hidden": true
       }
      }
     }
    },
    "tags": []
   },
   "outputs": [
    {
     "name": "stdout",
     "output_type": "stream",
     "text": [
      "\n",
      "- CASHFLOW\n",
      "- NPV\n"
     ]
    }
   ],
   "source": [
    "utilities.writeList(ore.getAnalyticTypes())"
   ]
  },
  {
   "cell_type": "markdown",
   "metadata": {
    "extensions": {
     "jupyter_dashboards": {
      "version": 1,
      "views": {
       "grid_default": {
        "col": 0,
        "height": 4,
        "hidden": true,
        "row": 31,
        "width": 12
       },
       "report_default": {
        "hidden": false
       }
      }
     }
    }
   },
   "source": [
    "Now list all reports that have been generated:"
   ]
  },
  {
   "cell_type": "code",
   "execution_count": 5,
   "metadata": {
    "extensions": {
     "jupyter_dashboards": {
      "version": 1,
      "views": {
       "grid_default": {
        "col": 0,
        "height": 7,
        "hidden": false,
        "row": 9,
        "width": 12
       },
       "report_default": {
        "hidden": true
       }
      }
     }
    },
    "tags": []
   },
   "outputs": [
    {
     "name": "stdout",
     "output_type": "stream",
     "text": [
      "\n",
      "- cashflow\n",
      "- curves\n",
      "- dividends\n",
      "- fixings\n",
      "- marketdata\n",
      "- npv\n"
     ]
    }
   ],
   "source": [
    "utilities.writeList(ore.getReportNames())"
   ]
  },
  {
   "cell_type": "markdown",
   "metadata": {
    "extensions": {
     "jupyter_dashboards": {
      "version": 1,
      "views": {
       "grid_default": {
        "col": 0,
        "height": 2,
        "hidden": false,
        "row": 7,
        "width": 12
       },
       "report_default": {
        "hidden": false
       }
      }
     }
    },
    "tags": []
   },
   "source": [
    "## NPV report"
   ]
  },
  {
   "cell_type": "markdown",
   "metadata": {
    "extensions": {
     "jupyter_dashboards": {
      "version": 1,
      "views": {
       "grid_default": {
        "col": 0,
        "height": 4,
        "hidden": true,
        "row": 31,
        "width": 12
       },
       "report_default": {
        "hidden": false
       }
      }
     }
    }
   },
   "source": [
    "Pick the npv report, check its structure..."
   ]
  },
  {
   "cell_type": "code",
   "execution_count": 6,
   "metadata": {
    "extensions": {
     "jupyter_dashboards": {
      "version": 1,
      "views": {
       "grid_default": {
        "hidden": true
       },
       "report_default": {
        "hidden": true
       }
      }
     }
    },
    "tags": []
   },
   "outputs": [
    {
     "name": "stdout",
     "output_type": "stream",
     "text": [
      "Report:  npv\n",
      "columns: 13\n",
      "rows:    1\n",
      "\n",
      "Column Header               Type     TypeString\n",
      "0      TradeId              2        string    \n",
      "1      TradeType            2        string    \n",
      "2      Maturity             3        Date      \n",
      "3      MaturityTime         1        Real      \n",
      "4      NPV                  1        Real      \n",
      "5      NpvCurrency          2        string    \n",
      "6      NPV(Base)            1        Real      \n",
      "7      BaseCurrency         2        string    \n",
      "8      Notional             1        Real      \n",
      "9      NotionalCurrency     2        string    \n",
      "10     Notional(Base)       1        Real      \n",
      "11     NettingSet           2        string    \n",
      "12     CounterParty         2        string    \n"
     ]
    }
   ],
   "source": [
    "reportName = \"npv\"\n",
    "report = ore.getReport(reportName)\n",
    "utilities.checkReportStructure(reportName, report)"
   ]
  },
  {
   "cell_type": "markdown",
   "metadata": {
    "extensions": {
     "jupyter_dashboards": {
      "version": 1,
      "views": {
       "grid_default": {
        "col": 0,
        "height": 4,
        "hidden": true,
        "row": 31,
        "width": 4
       },
       "report_default": {
        "hidden": false
       }
      }
     }
    }
   },
   "source": [
    "... and write a subset of the NPV report columns (0, 1, 2, 4, 5):"
   ]
  },
  {
   "cell_type": "code",
   "execution_count": 8,
   "metadata": {
    "extensions": {
     "jupyter_dashboards": {
      "version": 1,
      "views": {
       "grid_default": {
        "col": 0,
        "height": 20,
        "hidden": false,
        "row": 18,
        "width": null
       },
       "report_default": {
        "hidden": false
       }
      }
     }
    },
    "tags": []
   },
   "outputs": [
    {
     "name": "stdout",
     "output_type": "stream",
     "text": [
      "\n",
      "TradeId            TradeType          Maturity           NPV                NpvCurrency        \n",
      "Swap               Swap               2036-02-11         1335.27            EUR                \n"
     ]
    }
   ],
   "source": [
    "utilities.writeReport(report, [0, 1, 2, 4, 5])"
   ]
  },
  {
   "cell_type": "code",
   "execution_count": 9,
   "metadata": {
    "extensions": {
     "jupyter_dashboards": {
      "version": 1,
      "views": {
       "grid_default": {
        "col": 0,
        "height": 20,
        "hidden": false,
        "row": 18,
        "width": null
       },
       "report_default": {
        "hidden": false
       }
      }
     }
    },
    "tags": []
   },
   "outputs": [
    {
     "data": {
      "text/html": [
       "<div>\n",
       "<style scoped>\n",
       "    .dataframe tbody tr th:only-of-type {\n",
       "        vertical-align: middle;\n",
       "    }\n",
       "\n",
       "    .dataframe tbody tr th {\n",
       "        vertical-align: top;\n",
       "    }\n",
       "\n",
       "    .dataframe thead th {\n",
       "        text-align: right;\n",
       "    }\n",
       "</style>\n",
       "<table border=\"1\" class=\"dataframe\">\n",
       "  <thead>\n",
       "    <tr style=\"text-align: right;\">\n",
       "      <th></th>\n",
       "      <th>TradeId</th>\n",
       "      <th>TradeType</th>\n",
       "      <th>Maturity</th>\n",
       "      <th>MaturityTime</th>\n",
       "      <th>NPV</th>\n",
       "      <th>NpvCurrency</th>\n",
       "      <th>NPV(Base)</th>\n",
       "      <th>BaseCurrency</th>\n",
       "      <th>Notional</th>\n",
       "      <th>NotionalCurrency</th>\n",
       "      <th>Notional(Base)</th>\n",
       "      <th>NettingSet</th>\n",
       "      <th>CounterParty</th>\n",
       "    </tr>\n",
       "  </thead>\n",
       "  <tbody>\n",
       "    <tr>\n",
       "      <th>0</th>\n",
       "      <td>Swap</td>\n",
       "      <td>Swap</td>\n",
       "      <td>2036-02-11</td>\n",
       "      <td>20.016393</td>\n",
       "      <td>1335.270448</td>\n",
       "      <td>EUR</td>\n",
       "      <td>1335.270448</td>\n",
       "      <td>EUR</td>\n",
       "      <td>10000000.0</td>\n",
       "      <td>EUR</td>\n",
       "      <td>10000000.0</td>\n",
       "      <td>CPTY_A</td>\n",
       "      <td>CPTY_A</td>\n",
       "    </tr>\n",
       "  </tbody>\n",
       "</table>\n",
       "</div>"
      ],
      "text/plain": [
       "  TradeId TradeType    Maturity  MaturityTime          NPV NpvCurrency  \\\n",
       "0    Swap      Swap  2036-02-11     20.016393  1335.270448         EUR   \n",
       "\n",
       "     NPV(Base) BaseCurrency    Notional NotionalCurrency  Notional(Base)  \\\n",
       "0  1335.270448          EUR  10000000.0              EUR      10000000.0   \n",
       "\n",
       "  NettingSet CounterParty  \n",
       "0     CPTY_A       CPTY_A  "
      ]
     },
     "metadata": {},
     "output_type": "display_data"
    }
   ],
   "source": [
    "display(utilities.format_report(report))"
   ]
  },
  {
   "cell_type": "markdown",
   "metadata": {
    "extensions": {
     "jupyter_dashboards": {
      "version": 1,
      "views": {
       "grid_default": {
        "col": 0,
        "height": 2,
        "hidden": false,
        "row": 7,
        "width": 12
       },
       "report_default": {
        "hidden": false
       }
      }
     }
    }
   },
   "source": [
    "## Inspect the cashflow report"
   ]
  },
  {
   "cell_type": "markdown",
   "metadata": {
    "extensions": {
     "jupyter_dashboards": {
      "version": 1,
      "views": {
       "grid_default": {
        "col": 0,
        "height": 4,
        "hidden": true,
        "row": 31,
        "width": 12
       },
       "report_default": {
        "hidden": false
       }
      }
     }
    },
    "tags": []
   },
   "source": [
    "Pick the cashflow report, check its structure..."
   ]
  },
  {
   "cell_type": "code",
   "execution_count": 10,
   "metadata": {
    "extensions": {
     "jupyter_dashboards": {
      "version": 1,
      "views": {
       "grid_default": {
        "hidden": true
       },
       "report_default": {
        "hidden": true
       }
      }
     }
    },
    "tags": []
   },
   "outputs": [
    {
     "name": "stdout",
     "output_type": "stream",
     "text": [
      "Report:  cashflow\n",
      "columns: 25\n",
      "rows:    60\n",
      "\n",
      "Column Header               Type     TypeString\n",
      "0      TradeId              2        string    \n",
      "1      Type                 2        string    \n",
      "2      CashflowNo           0        Size      \n",
      "3      LegNo                0        Size      \n",
      "4      PayDate              3        Date      \n",
      "5      FlowType             2        string    \n",
      "6      Amount               1        Real      \n",
      "7      Currency             2        string    \n",
      "8      Coupon               1        Real      \n",
      "9      Accrual              1        Real      \n",
      "10     AccrualStartDate     3        Date      \n",
      "11     AccrualEndDate       3        Date      \n",
      "12     AccruedAmount        1        Real      \n",
      "13     fixingDate           3        Date      \n",
      "14     fixingValue          1        Real      \n",
      "15     Notional             1        Real      \n",
      "16     DiscountFactor       1        Real      \n",
      "17     PresentValue         1        Real      \n",
      "18     FXRate(Local-Base)   1        Real      \n",
      "19     PresentValue(Base)   1        Real      \n",
      "20     BaseCurrency         2        string    \n",
      "21     FloorStrike          1        Real      \n",
      "22     CapStrike            1        Real      \n",
      "23     FloorVolatility      1        Real      \n",
      "24     CapVolatility        1        Real      \n"
     ]
    }
   ],
   "source": [
    "reportName = \"cashflow\"\n",
    "report = ore.getReport(reportName)\n",
    "utilities.checkReportStructure(reportName, report)"
   ]
  },
  {
   "cell_type": "markdown",
   "metadata": {
    "extensions": {
     "jupyter_dashboards": {
      "version": 1,
      "views": {
       "grid_default": {
        "col": 0,
        "height": 4,
        "hidden": true,
        "row": 31,
        "width": 4
       },
       "report_default": {
        "hidden": false
       }
      }
     }
    }
   },
   "source": [
    "... and write a subset of the cashflow report columns:"
   ]
  },
  {
   "cell_type": "code",
   "execution_count": 11,
   "metadata": {
    "extensions": {
     "jupyter_dashboards": {
      "version": 1,
      "views": {
       "grid_default": {
        "col": 0,
        "height": 20,
        "hidden": false,
        "row": 18,
        "width": null
       },
       "report_default": {
        "hidden": false
       }
      }
     }
    },
    "tags": []
   },
   "outputs": [
    {
     "name": "stdout",
     "output_type": "stream",
     "text": [
      "\n",
      "CashflowNo         LegNo              PayDate            FlowType           Amount             \n",
      "1                  0                  2017-02-09         Interest           213500.00          \n",
      "2                  0                  2018-02-09         Interest           212916.67          \n",
      "3                  0                  2019-02-11         Interest           214083.33          \n",
      "4                  0                  2020-02-10         Interest           212333.33          \n",
      "5                  0                  2021-02-09         Interest           212916.67          \n",
      "6                  0                  2022-02-09         Interest           212916.67          \n",
      "7                  0                  2023-02-09         Interest           212916.67          \n",
      "8                  0                  2024-02-09         Interest           212916.67          \n",
      "9                  0                  2025-02-10         Interest           214083.33          \n",
      "10                 0                  2026-02-09         Interest           212333.33          \n",
      "11                 0                  2027-02-09         Interest           212916.67          \n",
      "12                 0                  2028-02-09         Interest           212916.67          \n",
      "13                 0                  2029-02-09         Interest           213500.00          \n",
      "14                 0                  2030-02-11         Interest           214083.33          \n",
      "15                 0                  2031-02-10         Interest           212333.33          \n",
      "16                 0                  2032-02-09         Interest           212333.33          \n",
      "17                 0                  2033-02-09         Interest           213500.00          \n",
      "18                 0                  2034-02-09         Interest           212916.67          \n",
      "19                 0                  2035-02-09         Interest           212916.67          \n",
      "20                 0                  2036-02-11         Interest           214083.33          \n",
      "1                  1                  2016-08-09         Interest           -105590.75         \n",
      "2                  1                  2017-02-09         InterestProjected  -106757.26         \n",
      "3                  1                  2017-08-09         InterestProjected  -105007.55         \n",
      "4                  1                  2018-02-09         InterestProjected  -106757.26         \n",
      "5                  1                  2018-08-09         InterestProjected  -105007.55         \n",
      "6                  1                  2019-02-11         InterestProjected  -107923.91         \n",
      "7                  1                  2019-08-09         InterestProjected  -103841.24         \n",
      "8                  1                  2020-02-10         InterestProjected  -107340.57         \n",
      "9                  1                  2020-08-10         InterestProjected  -105590.75         \n",
      "10                 1                  2021-02-09         InterestProjected  -106173.99         \n",
      "11                 1                  2021-08-09         InterestProjected  -105007.55         \n",
      "12                 1                  2022-02-09         InterestProjected  -106757.26         \n",
      "13                 1                  2022-08-09         InterestProjected  -105007.55         \n",
      "14                 1                  2023-02-09         InterestProjected  -106757.26         \n",
      "15                 1                  2023-08-09         InterestProjected  -105007.55         \n",
      "16                 1                  2024-02-09         InterestProjected  -106757.26         \n",
      "17                 1                  2024-08-09         InterestProjected  -105590.75         \n",
      "18                 1                  2025-02-10         InterestProjected  -107340.57         \n",
      "19                 1                  2025-08-11         InterestProjected  -105590.75         \n",
      "20                 1                  2026-02-09         InterestProjected  -105590.75         \n",
      "21                 1                  2026-08-10         InterestProjected  -105590.75         \n",
      "22                 1                  2027-02-09         InterestProjected  -106173.99         \n",
      "23                 1                  2027-08-09         InterestProjected  -105007.55         \n",
      "24                 1                  2028-02-09         InterestProjected  -106757.26         \n",
      "25                 1                  2028-08-09         InterestProjected  -105590.75         \n",
      "26                 1                  2029-02-09         InterestProjected  -106757.26         \n",
      "27                 1                  2029-08-09         InterestProjected  -105007.55         \n",
      "28                 1                  2030-02-11         InterestProjected  -107923.91         \n",
      "29                 1                  2030-08-09         InterestProjected  -103841.24         \n",
      "30                 1                  2031-02-10         InterestProjected  -107340.57         \n",
      "31                 1                  2031-08-11         InterestProjected  -105590.75         \n",
      "32                 1                  2032-02-09         InterestProjected  -105590.75         \n",
      "33                 1                  2032-08-09         InterestProjected  -105590.75         \n",
      "34                 1                  2033-02-09         InterestProjected  -106757.26         \n",
      "35                 1                  2033-08-09         InterestProjected  -105007.55         \n",
      "36                 1                  2034-02-09         InterestProjected  -106757.26         \n",
      "37                 1                  2034-08-09         InterestProjected  -105007.55         \n",
      "38                 1                  2035-02-09         InterestProjected  -106757.26         \n",
      "39                 1                  2035-08-09         InterestProjected  -105007.55         \n",
      "40                 1                  2036-02-11         InterestProjected  -107923.91         \n"
     ]
    }
   ],
   "source": [
    "utilities.writeReport(report, [2, 3, 4, 5, 6])"
   ]
  },
  {
   "cell_type": "markdown",
   "metadata": {
    "extensions": {
     "jupyter_dashboards": {
      "version": 1,
      "views": {
       "grid_default": {
        "col": 0,
        "height": 2,
        "hidden": false,
        "row": 7,
        "width": 12
       },
       "report_default": {
        "hidden": false
       }
      }
     }
    }
   },
   "source": [
    "## Curves report"
   ]
  },
  {
   "cell_type": "markdown",
   "metadata": {
    "extensions": {
     "jupyter_dashboards": {
      "version": 1,
      "views": {
       "grid_default": {
        "col": 0,
        "height": 4,
        "hidden": true,
        "row": 31,
        "width": 4
       },
       "report_default": {
        "hidden": false
       }
      }
     }
    }
   },
   "source": [
    "See which curves have been written. Compare to the configuration in Input/todaysmarket.xml. "
   ]
  },
  {
   "cell_type": "code",
   "execution_count": 12,
   "metadata": {
    "extensions": {
     "jupyter_dashboards": {
      "version": 1,
      "views": {
       "grid_default": {
        "hidden": true
       },
       "report_default": {
        "hidden": true
       }
      }
     }
    },
    "tags": []
   },
   "outputs": [
    {
     "name": "stdout",
     "output_type": "stream",
     "text": [
      "Report:  curves\n",
      "columns: 15\n",
      "rows:    240\n",
      "\n",
      "Column Header               Type     TypeString\n",
      "0      Tenor                4        Period    \n",
      "1      Date                 3        Date      \n",
      "2      EUR                  1        Real      \n",
      "3      GBP                  1        Real      \n",
      "4      USD                  1        Real      \n",
      "5      BANK_EUR_BORROW      1        Real      \n",
      "6      BANK_EUR_LEND        1        Real      \n",
      "7      EUR-EONIA            1        Real      \n",
      "8      EUR-EURIBOR-6M       1        Real      \n",
      "9      GBP-LIBOR-3M         1        Real      \n",
      "10     GBP-LIBOR-6M         1        Real      \n",
      "11     GBP-SONIA            1        Real      \n",
      "12     BANK                 1        Real      \n",
      "13     CPTY_A               1        Real      \n",
      "14     CPTY_B               1        Real      \n"
     ]
    }
   ],
   "source": [
    "reportName = \"curves\"\n",
    "report = ore.getReport(reportName)\n",
    "utilities.checkReportStructure(reportName, report)"
   ]
  },
  {
   "cell_type": "markdown",
   "metadata": {
    "extensions": {
     "jupyter_dashboards": {
      "version": 1,
      "views": {
       "grid_default": {
        "col": 0,
        "height": 4,
        "hidden": true,
        "row": 31,
        "width": 4
       },
       "report_default": {
        "hidden": false
       }
      }
     }
    }
   },
   "source": [
    "Now pick the EUR, GBP and USD discount curves, convert dates into times and discounts into zero rates: "
   ]
  },
  {
   "cell_type": "code",
   "execution_count": 13,
   "metadata": {
    "extensions": {
     "jupyter_dashboards": {
      "version": 1,
      "views": {
       "grid_default": {
        "col": 0,
        "height": 20,
        "hidden": false,
        "row": 18,
        "width": null
       },
       "report_default": {
        "hidden": false
       }
      }
     }
    },
    "tags": []
   },
   "outputs": [],
   "source": [
    "asof = ore.getInputs().asof()\n",
    "\n",
    "date = report.dataAsDate(1)\n",
    "eurDiscount = report.dataAsReal(2)\n",
    "gbpDiscount = report.dataAsReal(3)\n",
    "usdDiscount = report.dataAsReal(4)\n",
    "time = [0] * report.rows()\n",
    "eurZero = [0] * report.rows() \n",
    "gbpZero = [0] * report.rows() \n",
    "usdZero = [0] * report.rows() \n",
    "\n",
    "dc = Actual365Fixed()\n",
    "#print (\"#Index\", \"Date\", \"Discount\")\n",
    "for i in range(0, report.rows()):\n",
    "    time[i] = dc.yearFraction(asof, date[i])\n",
    "    eurZero[i] = -math.log(eurDiscount[i]) / time[i]\n",
    "    gbpZero[i] = -math.log(gbpDiscount[i]) / time[i]\n",
    "    usdZero[i] = -math.log(usdDiscount[i]) / time[i]\n",
    "    #print(\"%d %s %.4f %.8f %.8f\" % (i, date[i].ISO(), time[i], eurZero[i], gbpZero[i]))"
   ]
  },
  {
   "cell_type": "markdown",
   "metadata": {
    "extensions": {
     "jupyter_dashboards": {
      "version": 1,
      "views": {
       "grid_default": {
        "col": 0,
        "height": 4,
        "hidden": true,
        "row": 31,
        "width": 4
       },
       "report_default": {
        "hidden": false
       }
      }
     }
    }
   },
   "source": [
    "... and plot the curves:"
   ]
  },
  {
   "cell_type": "code",
   "execution_count": 14,
   "metadata": {
    "extensions": {
     "jupyter_dashboards": {
      "version": 1,
      "views": {
       "grid_default": {
        "col": 0,
        "height": 20,
        "hidden": false,
        "row": 18,
        "width": null
       },
       "report_default": {
        "hidden": false
       }
      }
     }
    },
    "tags": []
   },
   "outputs": [
    {
     "data": {
      "image/png": "[encoded data removed]",
      "text/plain": [
       "<Figure size 1400x500 with 2 Axes>"
      ]
     },
     "metadata": {},
     "output_type": "display_data"
    }
   ],
   "source": [
    "import matplotlib.pyplot as plt\n",
    "from matplotlib.gridspec import GridSpec\n",
    "\n",
    "fig = plt.figure(figsize=(14, 5))\n",
    "gs = GridSpec(nrows=1, ncols=2)\n",
    "ax0 = fig.add_subplot(gs[0, 0])\n",
    "ax1 = fig.add_subplot(gs[0, 1])\n",
    "\n",
    "ax0.plot(time, eurDiscount, label='EUR')\n",
    "ax0.plot(time, gbpDiscount, label='GBP')\n",
    "ax0.plot(time, usdDiscount, label='USD')\n",
    "ax0.set(xlabel='Time/Years', ylabel='Discount Factor')\n",
    "ax0.set_title('Discount Curves')\n",
    "ax0.legend()\n",
    "ax1.plot(time, eurZero, label='EUR')\n",
    "ax1.plot(time, gbpZero, label='GBP')\n",
    "ax1.plot(time, usdZero, label='USD')\n",
    "ax1.set(xlabel='Time/Years', ylabel='Rate')\n",
    "ax1.set_title('Zero Curves')\n",
    "ax1.legend()\n",
    "\n",
    "plt.show()"
   ]
  },
  {
   "cell_type": "markdown",
   "metadata": {
    "extensions": {
     "jupyter_dashboards": {
      "version": 1,
      "views": {
       "grid_default": {
        "col": 0,
        "height": 4,
        "hidden": true,
        "row": 31,
        "width": 4
       },
       "report_default": {
        "hidden": false
       }
      }
     }
    }
   },
   "source": [
    "EUR and GBP zero curves are flat, as expected."
   ]
  },
  {
   "cell_type": "markdown",
   "metadata": {
    "extensions": {
     "jupyter_dashboards": {
      "version": 1,
      "views": {
       "grid_default": {
        "col": 0,
        "height": 4,
        "hidden": true,
        "row": 31,
        "width": 4
       },
       "report_default": {
        "hidden": false
       }
      }
     }
    }
   },
   "source": [
    "## Sensitivity Analysis"
   ]
  },
  {
   "cell_type": "markdown",
   "metadata": {
    "extensions": {
     "jupyter_dashboards": {
      "version": 1,
      "views": {
       "grid_default": {
        "col": 0,
        "height": 4,
        "hidden": true,
        "row": 31,
        "width": 4
       },
       "report_default": {
        "hidden": false
       }
      }
     }
    }
   },
   "source": [
    "We could now modify the inputs via ore.xml and run again to generate a sensitivity report.\n",
    "\n",
    "But we can also do it here. It requires two additional configurations:"
   ]
  },
  {
   "cell_type": "code",
   "execution_count": 15,
   "metadata": {
    "tags": []
   },
   "outputs": [],
   "source": [
    "sensiXML = \"\"\"\n",
    "<SensitivityAnalysis>\n",
    "  <DiscountCurves>\n",
    "    <DiscountCurve ccy='EUR'>\n",
    "      <ShiftType>Absolute</ShiftType>\n",
    "      <ShiftSize>0.0001</ShiftSize>\n",
    "      <ShiftTenors>2W,1M,3M,6M,9M,1Y,2Y,3Y,4Y,5Y,7Y,10Y,15Y,20Y,25Y,30Y</ShiftTenors>\n",
    "      <ParConversion>\n",
    "        <Instruments>OIS,OIS,OIS,OIS,OIS,OIS,OIS,OIS,OIS,OIS,OIS,OIS,OIS,OIS,OIS,OIS</Instruments>\n",
    "        <SingleCurve>true</SingleCurve>\n",
    "        <Conventions>\n",
    "            <Convention id='DEP'>EUR-EURIBOR-CONVENTIONS</Convention>\n",
    "            <Convention id='IRS'>EUR-6M-SWAP-CONVENTIONS</Convention>\n",
    "            <Convention id='OIS'>EUR-OIS-CONVENTIONS</Convention>\n",
    "        </Conventions>\n",
    "      </ParConversion>\n",
    "    </DiscountCurve>\n",
    "  </DiscountCurves>\n",
    "  <IndexCurves>\n",
    "    <IndexCurve index='EUR-EONIA'>\n",
    "      <ShiftType>Absolute</ShiftType>\n",
    "      <ShiftSize>0.0001</ShiftSize>\n",
    "      <ShiftTenors>2W,1M,3M,6M,9M,1Y,2Y,3Y,4Y,5Y,7Y,10Y,15Y,20Y,25Y,30Y</ShiftTenors>\n",
    "      <ParConversion>\n",
    "        <Instruments>OIS,OIS,OIS,OIS,OIS,OIS,OIS,OIS,OIS,OIS,OIS,OIS,OIS,OIS,OIS,OIS</Instruments>\n",
    "        <SingleCurve>true</SingleCurve>\n",
    "        <Conventions>\n",
    "            <Convention id='DEP'>EUR-EURIBOR-CONVENTIONS</Convention>\n",
    "            <Convention id='IRS'>EUR-6M-SWAP-CONVENTIONS</Convention>\n",
    "            <Convention id='OIS'>EUR-OIS-CONVENTIONS</Convention>\n",
    "        </Conventions>\n",
    "      </ParConversion>\n",
    "    </IndexCurve>\n",
    "    <IndexCurve index='EUR-EURIBOR-6M'>\n",
    "      <ShiftType>Absolute</ShiftType>\n",
    "      <ShiftSize>0.0001</ShiftSize>\n",
    "      <ShiftTenors>2W,1M,3M,6M,9M,1Y,2Y,3Y,4Y,5Y,7Y,10Y,15Y,20Y,25Y,30Y</ShiftTenors>\n",
    "      <ParConversion>\n",
    "        <Instruments>DEP,DEP,DEP,DEP,DEP,IRS,IRS,IRS,IRS,IRS,IRS,IRS,IRS,IRS,IRS,IRS</Instruments>\n",
    "        <SingleCurve>false</SingleCurve>\n",
    "        <Conventions>\n",
    "            <Convention id='DEP'>EUR-EURIBOR-CONVENTIONS</Convention>\n",
    "            <Convention id='IRS'>EUR-6M-SWAP-CONVENTIONS</Convention>\n",
    "            <Convention id='OIS'>EUR-OIS-CONVENTIONS</Convention>\n",
    "        </Conventions>\n",
    "      </ParConversion>\n",
    "    </IndexCurve>\n",
    "  </IndexCurves>\n",
    "</SensitivityAnalysis>\n",
    "\"\"\""
   ]
  },
  {
   "cell_type": "code",
   "execution_count": 16,
   "metadata": {
    "tags": []
   },
   "outputs": [],
   "source": [
    "simulationXML = \"\"\"\n",
    "<Simulation>\n",
    "  <Market>\n",
    "    <BaseCurrency>EUR</BaseCurrency>\n",
    "    <Currencies>\n",
    "      <Currency>EUR</Currency>\n",
    "    </Currencies>\n",
    "    <YieldCurves>\n",
    "      <Configuration>\n",
    "        <Tenors>2W,1M,3M,6M,9M,1Y,2Y,3Y,4Y,5Y,7Y,10Y,15Y,20Y,25Y,30Y</Tenors>\n",
    "        <Interpolation>LogLinear</Interpolation>\n",
    "        <Extrapolation>Y</Extrapolation>\n",
    "      </Configuration>\n",
    "    </YieldCurves>\n",
    "    <Indices>\n",
    "      <Index>EUR-EONIA</Index>\n",
    "      <Index>EUR-EURIBOR-6M</Index>\n",
    "    </Indices>\n",
    "  </Market>\n",
    "</Simulation>\n",
    "\"\"\""
   ]
  },
  {
   "cell_type": "code",
   "execution_count": 17,
   "metadata": {
    "tags": []
   },
   "outputs": [],
   "source": [
    "inputs = ore.getInputs()\n",
    "inputs.setSensiScenarioData(sensiXML);\n",
    "inputs.setSensiSimMarketParams(simulationXML)\n",
    "inputs.insertAnalytic(\"SENSITIVITY\")"
   ]
  },
  {
   "cell_type": "markdown",
   "metadata": {
    "extensions": {
     "jupyter_dashboards": {
      "version": 1,
      "views": {
       "grid_default": {
        "col": 0,
        "height": 4,
        "hidden": true,
        "row": 31,
        "width": 4
       },
       "report_default": {
        "hidden": false
       }
      }
     }
    }
   },
   "source": [
    "Run again..."
   ]
  },
  {
   "cell_type": "code",
   "execution_count": 18,
   "metadata": {
    "extensions": {
     "jupyter_dashboards": {
      "version": 1,
      "views": {
       "grid_default": {
        "hidden": true
       },
       "report_default": {
        "hidden": true
       }
      }
     }
    },
    "scrolled": true,
    "tags": []
   },
   "outputs": [
    {
     "name": "stdout",
     "output_type": "stream",
     "text": [
      "Run time: 0.15 sec\n",
      "Errors: 0\n"
     ]
    }
   ],
   "source": [
    "ore.run()\n",
    "\n",
    "utilities.checkErrorsAndRunTime(ore)        "
   ]
  },
  {
   "cell_type": "markdown",
   "metadata": {
    "extensions": {
     "jupyter_dashboards": {
      "version": 1,
      "views": {
       "grid_default": {
        "col": 0,
        "height": 4,
        "hidden": true,
        "row": 31,
        "width": 4
       },
       "report_default": {
        "hidden": false
       }
      }
     }
    }
   },
   "source": [
    "Check result reports again..."
   ]
  },
  {
   "cell_type": "code",
   "execution_count": 19,
   "metadata": {
    "tags": []
   },
   "outputs": [
    {
     "name": "stdout",
     "output_type": "stream",
     "text": [
      "\n",
      "- cashflow\n",
      "- curves\n",
      "- dividends\n",
      "- fixings\n",
      "- marketdata\n",
      "- npv\n",
      "- sensitivity\n",
      "- sensitivity_scenario\n"
     ]
    }
   ],
   "source": [
    "utilities.writeList(ore.getReportNames())"
   ]
  },
  {
   "cell_type": "markdown",
   "metadata": {
    "extensions": {
     "jupyter_dashboards": {
      "version": 1,
      "views": {
       "grid_default": {
        "col": 0,
        "height": 4,
        "hidden": true,
        "row": 31,
        "width": 4
       },
       "report_default": {
        "hidden": false
       }
      }
     }
    }
   },
   "source": [
    "We have a sensitivity report now"
   ]
  },
  {
   "cell_type": "code",
   "execution_count": 20,
   "metadata": {
    "extensions": {
     "jupyter_dashboards": {
      "version": 1,
      "views": {
       "grid_default": {
        "hidden": true
       },
       "report_default": {
        "hidden": true
       }
      }
     }
    },
    "tags": []
   },
   "outputs": [
    {
     "name": "stdout",
     "output_type": "stream",
     "text": [
      "Report:  sensitivity\n",
      "columns: 10\n",
      "rows:    25\n",
      "\n",
      "Column Header               Type     TypeString\n",
      "0      TradeId              2        string    \n",
      "1      IsPar                2        string    \n",
      "2      Factor_1             2        string    \n",
      "3      ShiftSize_1          1        Real      \n",
      "4      Factor_2             2        string    \n",
      "5      ShiftSize_2          1        Real      \n",
      "6      Currency             2        string    \n",
      "7      Base NPV             1        Real      \n",
      "8      Delta                1        Real      \n",
      "9      Gamma                1        Real      \n"
     ]
    }
   ],
   "source": [
    "reportName = \"sensitivity\"\n",
    "rawReport = ore.getReport(reportName)\n",
    "utilities.checkReportStructure(reportName, rawReport)"
   ]
  },
  {
   "cell_type": "code",
   "execution_count": 21,
   "metadata": {
    "scrolled": true,
    "tags": []
   },
   "outputs": [
    {
     "name": "stdout",
     "output_type": "stream",
     "text": [
      "IsPar      Factor                               ShiftSize   Currency        NPV      Delta      Gamma\n",
      "false      DiscountCurve/EUR/3/6M                0.000100        EUR    1335.27       5.05      -0.00\n",
      "false      DiscountCurve/EUR/4/9M                0.000100        EUR    1335.27       0.35      -0.00\n",
      "false      DiscountCurve/EUR/5/1Y                0.000100        EUR    1335.27      -5.41       0.00\n",
      "false      DiscountCurve/EUR/6/2Y                0.000100        EUR    1335.27      -0.22       0.00\n",
      "false      DiscountCurve/EUR/7/3Y                0.000100        EUR    1335.27      -0.32       0.00\n",
      "false      DiscountCurve/EUR/8/4Y                0.000100        EUR    1335.27      -0.39       0.01\n",
      "false      DiscountCurve/EUR/9/5Y                0.000100        EUR    1335.27      -0.84       0.01\n",
      "false      DiscountCurve/EUR/10/7Y               0.000100        EUR    1335.27      -1.72       0.01\n",
      "false      DiscountCurve/EUR/11/10Y              0.000100        EUR    1335.27      -3.76       0.01\n",
      "false      DiscountCurve/EUR/12/15Y              0.000100        EUR    1335.27      -6.46       0.02\n",
      "false      DiscountCurve/EUR/13/20Y              0.000100        EUR    1335.27     -75.45       0.16\n",
      "false      DiscountCurve/EUR/14/25Y              0.000100        EUR    1335.27      -0.59       0.00\n",
      "false      IndexCurve/EUR-EURIBOR-6M/0/2W        0.000100        EUR    1335.27      11.11      -0.00\n",
      "false      IndexCurve/EUR-EURIBOR-6M/3/6M        0.000100        EUR    1335.27      -4.84      -0.05\n",
      "false      IndexCurve/EUR-EURIBOR-6M/4/9M        0.000100        EUR    1335.27      -0.33      -0.00\n",
      "false      IndexCurve/EUR-EURIBOR-6M/5/1Y        0.000100        EUR    1335.27     -14.97      -0.15\n",
      "false      IndexCurve/EUR-EURIBOR-6M/6/2Y        0.000100        EUR    1335.27     -39.56      -0.39\n",
      "false      IndexCurve/EUR-EURIBOR-6M/7/3Y        0.000100        EUR    1335.27     -58.28      -0.84\n",
      "false      IndexCurve/EUR-EURIBOR-6M/8/4Y        0.000100        EUR    1335.27     -76.37      -1.46\n",
      "false      IndexCurve/EUR-EURIBOR-6M/9/5Y        0.000100        EUR    1335.27    -139.09      -1.71\n",
      "false      IndexCurve/EUR-EURIBOR-6M/10/7Y       0.000100        EUR    1335.27    -310.40      -1.81\n",
      "false      IndexCurve/EUR-EURIBOR-6M/11/10Y      0.000100        EUR    1335.27    -663.17      -2.24\n",
      "false      IndexCurve/EUR-EURIBOR-6M/12/15Y      0.000100        EUR    1335.27   -1139.62      -3.43\n",
      "false      IndexCurve/EUR-EURIBOR-6M/13/20Y      0.000100        EUR    1335.27  -14319.08      -2.88\n",
      "false      IndexCurve/EUR-EURIBOR-6M/14/25Y      0.000100        EUR    1335.27     -56.33      -0.00\n"
     ]
    }
   ],
   "source": [
    "isPar = rawReport.dataAsString(1)\n",
    "factor = rawReport.dataAsString(2)\n",
    "shiftSize = rawReport.dataAsReal(3)\n",
    "currency = rawReport.dataAsString(6)\n",
    "npv = rawReport.dataAsReal(7)\n",
    "delta = rawReport.dataAsReal(8) \n",
    "gamma = rawReport.dataAsReal(9)\n",
    "print (\"%-10s %-35s %10s %10s %10s %10s %10s\" % (\"IsPar\", \"Factor\", \"ShiftSize\", \"Currency\", \"NPV\", \"Delta\", \"Gamma\"))\n",
    "rawDelta = {}\n",
    "for i in range(0, rawReport.rows()):\n",
    "    print(\"%-10s %-35s %10.6f %10s %10.2f %10.2f %10.2f\" % (isPar[i], factor[i], shiftSize[i], currency[i], npv[i], delta[i], gamma[i]))\n",
    "    if (\"IndexCurve\" in factor[i]):\n",
    "        rawDelta[factor[i]] = delta[i]\n"
   ]
  },
  {
   "cell_type": "markdown",
   "metadata": {
    "extensions": {
     "jupyter_dashboards": {
      "version": 1,
      "views": {
       "grid_default": {
        "col": 0,
        "height": 4,
        "hidden": true,
        "row": 31,
        "width": 4
       },
       "report_default": {
        "hidden": false
       }
      }
     }
    }
   },
   "source": [
    "We want par sensitivities as well:"
   ]
  },
  {
   "cell_type": "code",
   "execution_count": 22,
   "metadata": {
    "tags": []
   },
   "outputs": [],
   "source": [
    "inputs.setParSensi(True)"
   ]
  },
  {
   "cell_type": "code",
   "execution_count": 23,
   "metadata": {
    "tags": []
   },
   "outputs": [
    {
     "name": "stdout",
     "output_type": "stream",
     "text": [
      "Run time: 0.16 sec\n",
      "Errors: 0\n"
     ]
    }
   ],
   "source": [
    "ore.run()\n",
    "\n",
    "utilities.checkErrorsAndRunTime(ore)        "
   ]
  },
  {
   "cell_type": "code",
   "execution_count": 24,
   "metadata": {
    "tags": []
   },
   "outputs": [
    {
     "name": "stdout",
     "output_type": "stream",
     "text": [
      "\n",
      "- cashflow\n",
      "- curves\n",
      "- dividends\n",
      "- fixings\n",
      "- marketdata\n",
      "- npv\n",
      "- par_sensitivity\n",
      "- sensitivity\n",
      "- sensitivity_scenario\n"
     ]
    }
   ],
   "source": [
    "utilities.writeList(ore.getReportNames())"
   ]
  },
  {
   "cell_type": "markdown",
   "metadata": {
    "extensions": {
     "jupyter_dashboards": {
      "version": 1,
      "views": {
       "grid_default": {
        "col": 0,
        "height": 4,
        "hidden": true,
        "row": 31,
        "width": 4
       },
       "report_default": {
        "hidden": false
       }
      }
     }
    }
   },
   "source": [
    "We have a par sensitivity report now"
   ]
  },
  {
   "cell_type": "code",
   "execution_count": 25,
   "metadata": {
    "tags": []
   },
   "outputs": [
    {
     "name": "stdout",
     "output_type": "stream",
     "text": [
      "Load report par_sensitivity\n",
      "\n",
      "\n",
      "IsPar      Factor                               ShiftSize   Currency        NPV   ParDelta\n",
      "true       DiscountCurve/EUR/0/2W                0.000100        EUR    1335.27      -0.00\n",
      "true       DiscountCurve/EUR/1/1M                0.000100        EUR    1335.27       0.00\n",
      "true       DiscountCurve/EUR/2/3M                0.000100        EUR    1335.27      -0.00\n",
      "true       DiscountCurve/EUR/3/6M                0.000100        EUR    1335.27       0.00\n",
      "true       DiscountCurve/EUR/4/9M                0.000100        EUR    1335.27      -0.00\n",
      "true       DiscountCurve/EUR/5/1Y                0.000100        EUR    1335.27      -0.01\n",
      "true       DiscountCurve/EUR/6/2Y                0.000100        EUR    1335.27      -0.01\n",
      "true       DiscountCurve/EUR/7/3Y                0.000100        EUR    1335.27      -0.02\n",
      "true       DiscountCurve/EUR/8/4Y                0.000100        EUR    1335.27      -0.02\n",
      "true       DiscountCurve/EUR/9/5Y                0.000100        EUR    1335.27      -0.04\n",
      "true       DiscountCurve/EUR/10/7Y               0.000100        EUR    1335.27      -0.10\n",
      "true       DiscountCurve/EUR/11/10Y              0.000100        EUR    1335.27      -0.24\n",
      "true       DiscountCurve/EUR/12/15Y              0.000100        EUR    1335.27      -0.47\n",
      "true       DiscountCurve/EUR/13/20Y              0.000100        EUR    1335.27      -0.37\n",
      "true       DiscountCurve/EUR/14/25Y              0.000100        EUR    1335.27       0.00\n",
      "true       DiscountCurve/EUR/15/30Y              0.000100        EUR    1335.27      -0.00\n",
      "true       IndexCurve/EUR-EURIBOR-6M/13/20Y      0.000100        EUR    1335.27  -16317.08\n"
     ]
    }
   ],
   "source": [
    "parReportName = \"par_sensitivity\"\n",
    "print (\"Load report\", parReportName)\n",
    "parReport = ore.getReport(parReportName)\n",
    "    \n",
    "isPar = parReport.dataAsString(1)\n",
    "factor = parReport.dataAsString(2)\n",
    "shiftSize = parReport.dataAsReal(3)\n",
    "currency = parReport.dataAsString(6)\n",
    "npv = parReport.dataAsReal(7)\n",
    "delta = parReport.dataAsReal(8) \n",
    "\n",
    "print(\"\\n\")\n",
    "print (\"%-10s %-35s %10s %10s %10s %10s\" % (\"IsPar\", \"Factor\", \"ShiftSize\", \"Currency\", \"NPV\", \"ParDelta\"))\n",
    "parDelta = {}\n",
    "for i in range(0, parReport.rows()):\n",
    "    print(\"%-10s %-35s %10.6f %10s %10.2f %10.2f\" % (isPar[i], factor[i], shiftSize[i], currency[i], npv[i], delta[i]))\n",
    "    if (\"IndexCurve\" in factor[i]):\n",
    "        parDelta[factor[i]] = delta[i]\n"
   ]
  },
  {
   "cell_type": "markdown",
   "metadata": {
    "extensions": {
     "jupyter_dashboards": {
      "version": 1,
      "views": {
       "grid_default": {
        "col": 0,
        "height": 4,
        "hidden": true,
        "row": 31,
        "width": 4
       },
       "report_default": {
        "hidden": false
       }
      }
     }
    }
   },
   "source": [
    "Compare raw and par index curve sensitivities:"
   ]
  },
  {
   "cell_type": "code",
   "execution_count": 26,
   "metadata": {
    "extensions": {
     "jupyter_dashboards": {
      "version": 1,
      "views": {
       "grid_default": {
        "col": 0,
        "height": 20,
        "hidden": false,
        "row": 18,
        "width": null
       },
       "report_default": {
        "hidden": false
       }
      }
     }
    },
    "tags": []
   },
   "outputs": [
    {
     "name": "stdout",
     "output_type": "stream",
     "text": [
      "Factor                                RawDelta   ParDelta\n",
      "IndexCurve/EUR-EURIBOR-6M/13/20Y     -14319.08  -16317.08\n"
     ]
    }
   ],
   "source": [
    "print(\"%-35s %10s %10s\" % (\"Factor\", \"RawDelta\", \"ParDelta\"))\n",
    "for key in parDelta:\n",
    "    if (key not in rawDelta):\n",
    "        rawDelta[key] = 0\n",
    "    print(\"%-35s %10.2f %10.2f\" % (key, rawDelta[key], parDelta[key]))"
   ]
  },
  {
   "cell_type": "markdown",
   "metadata": {
    "extensions": {
     "jupyter_dashboards": {
      "version": 1,
      "views": {
       "grid_default": {
        "col": 0,
        "height": 4,
        "hidden": true,
        "row": 31,
        "width": 4
       },
       "report_default": {
        "hidden": false
       }
      }
     }
    }
   },
   "source": [
    "## Exposure Simulation"
   ]
  },
  {
   "cell_type": "markdown",
   "metadata": {
    "extensions": {
     "jupyter_dashboards": {
      "version": 1,
      "views": {
       "grid_default": {
        "col": 0,
        "height": 4,
        "hidden": true,
        "row": 31,
        "width": 4
       },
       "report_default": {
        "hidden": false
       }
      }
     }
    }
   },
   "source": [
    "To run an exposure simulation, we need to add further configurations:\n",
    "- simulation market configuration\n",
    "- scenario generator configuration\n",
    "- cross asset model configuration\n",
    "- netting set manager"
   ]
  },
  {
   "cell_type": "code",
   "execution_count": 27,
   "metadata": {
    "tags": []
   },
   "outputs": [],
   "source": [
    "mcSimMarketXML =\"\"\"\n",
    "<Simulation>\n",
    "<Market>\n",
    "  <BaseCurrency>EUR</BaseCurrency>\n",
    "    <Currencies>\n",
    "      <Currency>EUR</Currency>\n",
    "    </Currencies>\n",
    "  <YieldCurves>\n",
    "    <Configuration>\n",
    "      <Tenors>3M,6M,1Y,2Y,3Y,4Y,5Y,7Y,10Y,12Y,15Y,20Y,25Y,30Y</Tenors>\n",
    "      <Interpolation>LogLinear</Interpolation>\n",
    "      <Extrapolation>Y</Extrapolation>\n",
    "    </Configuration>\n",
    "  </YieldCurves>\n",
    "  <Indices>\n",
    "    <Index>EUR-EURIBOR-6M</Index>\n",
    "    <Index>EUR-EONIA</Index>\n",
    "  </Indices>\n",
    "  <SwapIndices>\n",
    "    <SwapIndex>\n",
    "      <Name>EUR-CMS-1Y</Name>\n",
    "      <DiscountingIndex>EUR-EONIA</DiscountingIndex>\n",
    "    </SwapIndex>\n",
    "    <SwapIndex>\n",
    "      <Name>EUR-CMS-30Y</Name>\n",
    "      <DiscountingIndex>EUR-EONIA</DiscountingIndex>\n",
    "    </SwapIndex>\n",
    "  </SwapIndices>\n",
    "  <DefaultCurves>\n",
    "    <Names/>\n",
    "    <Tenors>6M,1Y,2Y</Tenors>\n",
    "  </DefaultCurves>\n",
    "  <AggregationScenarioDataCurrencies>\n",
    "    <Currency>EUR</Currency>\n",
    "  </AggregationScenarioDataCurrencies>\n",
    "  <AggregationScenarioDataIndices>\n",
    "    <Index>EUR-EONIA</Index>\n",
    "  </AggregationScenarioDataIndices>\n",
    "</Market>\n",
    "</Simulation>\n",
    "\"\"\""
   ]
  },
  {
   "cell_type": "code",
   "execution_count": 28,
   "metadata": {
    "tags": []
   },
   "outputs": [],
   "source": [
    "scenarioGeneratorXML =\"\"\"\n",
    "<Simulation>\n",
    "  <Parameters>\n",
    "    <Discretization>Exact</Discretization>\n",
    "    <Grid>81,3M</Grid>\n",
    "    <Calendar>EUR</Calendar>\n",
    "    <Sequence>SobolBrownianBridge</Sequence>\n",
    "    <Scenario>Simple</Scenario>\n",
    "    <Seed>42</Seed>\n",
    "    <Samples>1000</Samples>\n",
    "  </Parameters>\n",
    "</Simulation>\n",
    "\"\"\""
   ]
  },
  {
   "cell_type": "code",
   "execution_count": 29,
   "metadata": {
    "tags": []
   },
   "outputs": [],
   "source": [
    "crossAssetModelXML = \"\"\"\n",
    "<Simulation>\n",
    "<CrossAssetModel>\n",
    "  <DomesticCcy>EUR</DomesticCcy>\n",
    "  <Currencies>\n",
    "    <Currency>EUR</Currency>\n",
    "  </Currencies>\n",
    "  <BootstrapTolerance>0.0001</BootstrapTolerance>\n",
    "  <InterestRateModels>\n",
    "    <LGM ccy='default'>\n",
    "      <CalibrationType>Bootstrap</CalibrationType>\n",
    "      <Volatility>\n",
    "        <Calibrate>Y</Calibrate>\n",
    "        <VolatilityType>Hagan</VolatilityType>\n",
    "        <ParamType>Piecewise</ParamType>\n",
    "        <TimeGrid>1.0,2.0,3.0,4.0,5.0,7.0,10.0</TimeGrid>\n",
    "        <InitialValue>0.01, 0.01, 0.01, 0.01, 0.01, 0.01, 0.01, 0.01</InitialValue>\n",
    "      </Volatility>\n",
    "      <Reversion>\n",
    "        <Calibrate>N</Calibrate>\n",
    "        <ReversionType>HullWhite</ReversionType>\n",
    "        <ParamType>Constant</ParamType>\n",
    "        <TimeGrid/>\n",
    "        <InitialValue>0.03</InitialValue>\n",
    "      </Reversion>\n",
    "      <CalibrationSwaptions>\n",
    "        <Expiries> 1Y,  2Y,  4Y,  6Y,  8Y, 10Y, 12Y, 14Y, 16Y, 18Y, 19Y</Expiries>\n",
    "        <Terms>   19Y, 18Y, 16Y, 14Y, 12Y, 10Y,  8Y,  6Y,  4Y,  2Y,  1Y</Terms>\n",
    "        <Strikes/>\n",
    "      </CalibrationSwaptions>\n",
    "      <ParameterTransformation>\n",
    "        <ShiftHorizon>0.0</ShiftHorizon>\n",
    "        <Scaling>1.0</Scaling>\n",
    "      </ParameterTransformation>\n",
    "   </LGM>\n",
    "  </InterestRateModels>\n",
    "  <ForeignExchangeModels>\n",
    "    <CrossCcyLGM foreignCcy='default'>\n",
    "      <DomesticCcy>EUR</DomesticCcy>\n",
    "      <CalibrationType>Bootstrap</CalibrationType>\n",
    "      <Sigma>\n",
    "        <Calibrate>Y</Calibrate>\n",
    "        <ParamType>Piecewise</ParamType>\n",
    "        <TimeGrid>1.0, 2.0, 3.0, 4.0, 5.0, 7.0, 10.0</TimeGrid>\n",
    "        <InitialValue>0.1, 0.1, 0.1, 0.1, 0.1, 0.1, 0.1, 0.1</InitialValue>\n",
    "      </Sigma>\n",
    "      <CalibrationOptions>\n",
    "        <Expiries>1Y, 2Y, 3Y, 4Y, 5Y, 10Y</Expiries>\n",
    "        <Strikes/>\n",
    "      </CalibrationOptions>\n",
    "    </CrossCcyLGM>\n",
    "  </ForeignExchangeModels>\n",
    "  <InstantaneousCorrelations>\n",
    "    <Correlation factor1='IR:EUR' factor2='IR:GBP'>0.3</Correlation>\n",
    "    <Correlation factor1='IR:EUR' factor2='FX:GBPEUR'>0</Correlation>\n",
    "    <Correlation factor1='IR:GBP' factor2='FX:GBPEUR'>0</Correlation>\n",
    "  </InstantaneousCorrelations>\n",
    "</CrossAssetModel>\n",
    "</Simulation>\n",
    "\"\"\""
   ]
  },
  {
   "cell_type": "code",
   "execution_count": 30,
   "metadata": {
    "tags": []
   },
   "outputs": [],
   "source": [
    "nettingSetManagerXML = \"\"\"\n",
    "<NettingSetDefinitions>\n",
    "  <NettingSet>\n",
    "    <NettingSetId>CPTY_A</NettingSetId>\n",
    "    <Counterparty>CPTY_A</Counterparty>\n",
    "    <ActiveCSAFlag>false</ActiveCSAFlag>\n",
    "    <CSADetails>\n",
    "      <Bilateral>Bilateral</Bilateral>\n",
    "      <CSACurrency>EUR</CSACurrency>\n",
    "      <Index>EUR-EONIA</Index>\n",
    "      <ThresholdPay>0</ThresholdPay>\n",
    "      <ThresholdReceive>0</ThresholdReceive>\n",
    "      <MinimumTransferAmountPay>0</MinimumTransferAmountPay>\n",
    "      <MinimumTransferAmountReceive>0</MinimumTransferAmountReceive>\n",
    "      <IndependentAmount>\n",
    "        <IndependentAmountHeld>0</IndependentAmountHeld>\n",
    "        <IndependentAmountType>FIXED</IndependentAmountType>\n",
    "      </IndependentAmount>\n",
    "      <MarginingFrequency>\n",
    "        <CallFrequency>1D</CallFrequency>\n",
    "        <PostFrequency>1D</PostFrequency>\n",
    "      </MarginingFrequency>\n",
    "      <MarginPeriodOfRisk>2W</MarginPeriodOfRisk>\n",
    "      <CollateralCompoundingSpreadReceive>0.00</CollateralCompoundingSpreadReceive>\n",
    "      <CollateralCompoundingSpreadPay>0.00</CollateralCompoundingSpreadPay>\n",
    "      <EligibleCollaterals>\n",
    "        <Currencies>\n",
    "          <Currency>EUR</Currency>\n",
    "        </Currencies>\n",
    "      </EligibleCollaterals>\n",
    "    </CSADetails>\n",
    "  </NettingSet>\n",
    "</NettingSetDefinitions>\n",
    "\"\"\""
   ]
  },
  {
   "cell_type": "code",
   "execution_count": 31,
   "metadata": {
    "tags": []
   },
   "outputs": [],
   "source": [
    "simulationPricingEngineXML = \"\"\"\n",
    "<PricingEngines>\n",
    "<Product type='Swap'>\n",
    "  <Model>DiscountedCashflows</Model>\n",
    "  <ModelParameters/>\n",
    "  <Engine>DiscountingSwapEngineOptimised</Engine>\n",
    "  <EngineParameters/>\n",
    "</Product>\n",
    "</PricingEngines>\n",
    "\"\"\"\n",
    "amcPricingEngineXML = \"<PricingEngines></PricingEngines>\""
   ]
  },
  {
   "cell_type": "code",
   "execution_count": 32,
   "metadata": {
    "tags": []
   },
   "outputs": [],
   "source": [
    "inputs.setExposureBaseCurrency(\"EUR\")\n",
    "inputs.setExposureSimMarketParams(mcSimMarketXML)\n",
    "inputs.setScenarioGeneratorData(scenarioGeneratorXML)\n",
    "inputs.setCrossAssetModelData(crossAssetModelXML)\n",
    "inputs.setSimulationPricingEngine(simulationPricingEngineXML)\n",
    "inputs.setAmcPricingEngine(amcPricingEngineXML)\n",
    "inputs.setNettingSetManager(nettingSetManagerXML)\n",
    "inputs.setWriteCube(True)\n",
    "inputs.setXvaBaseCurrency(\"EUR\")\n",
    "inputs.setExposureProfiles(True)\n",
    "inputs.setExposureProfilesByTrade(True)\n",
    "inputs.setCvaAnalytic(True)\n",
    "inputs.setAmc(False)\n",
    "inputs.setNetCubeOutput(True)\n",
    "inputs.setWriteCube(True)\n",
    "inputs.setWriteScenarios(True)\n",
    "\n",
    "inputs.insertAnalytic(\"EXPOSURE\")\n",
    "inputs.insertAnalytic(\"XVA\")"
   ]
  },
  {
   "cell_type": "code",
   "execution_count": 33,
   "metadata": {
    "tags": []
   },
   "outputs": [
    {
     "name": "stdout",
     "output_type": "stream",
     "text": [
      "Run time: 7.11 sec\n",
      "Errors: 0\n"
     ]
    }
   ],
   "source": [
    "ore.run()\n",
    "utilities.checkErrorsAndRunTime(ore)     "
   ]
  },
  {
   "cell_type": "code",
   "execution_count": 34,
   "metadata": {
    "tags": []
   },
   "outputs": [
    {
     "name": "stdout",
     "output_type": "stream",
     "text": [
      "\n",
      "- cashflow\n",
      "- colva_nettingset_CPTY_A\n",
      "- curves\n",
      "- cva_sensitivity_nettingset_CPTY_A\n",
      "- dividends\n",
      "- exposure_nettingset_CPTY_A\n",
      "- exposure_trade_Swap\n",
      "- fixings\n",
      "- marketdata\n",
      "- netcube\n",
      "- npv\n",
      "- par_sensitivity\n",
      "- scenario\n",
      "- sensitivity\n",
      "- sensitivity_scenario\n",
      "- xva\n"
     ]
    }
   ],
   "source": [
    "utilities.writeList(ore.getReportNames())"
   ]
  },
  {
   "cell_type": "markdown",
   "metadata": {
    "extensions": {
     "jupyter_dashboards": {
      "version": 1,
      "views": {
       "grid_default": {
        "col": 0,
        "height": 4,
        "hidden": true,
        "row": 31,
        "width": 4
       },
       "report_default": {
        "hidden": false
       }
      }
     }
    }
   },
   "source": [
    "We should have several additional reports now:\n",
    "- exposure_trade_Swap\n",
    "- exposure-nettingset_CPTY_A\n",
    "- cva_sensitivity_nettingset_CPTY_A\n",
    "- colva_nettingset_CPTY_A\n",
    "- netcube\n",
    "- xva\n",
    "\n",
    "Let us check the simulated data (rates, NPVs) and the resulting exposure report:"
   ]
  },
  {
   "cell_type": "code",
   "execution_count": 41,
   "metadata": {
    "tags": []
   },
   "outputs": [],
   "source": [
    "import gzip"
   ]
  },
  {
   "cell_type": "code",
   "execution_count": 42,
   "metadata": {
    "tags": []
   },
   "outputs": [],
   "source": [
    "import gzip\n",
    "f_in = open('Output/scenariodata-Copy1.csv.gz')\n",
    "f_out = gzip.open('Output/scenariodata.csv.gz', 'wb')\n",
    "f_out.writelines(f_in)\n",
    "f_out.close()\n",
    "f_in.close()\n"
   ]
  },
  {
   "cell_type": "code",
   "execution_count": 51,
   "metadata": {
    "tags": []
   },
   "outputs": [
    {
     "data": {
      "text/html": [
       "<div>\n",
       "<style scoped>\n",
       "    .dataframe tbody tr th:only-of-type {\n",
       "        vertical-align: middle;\n",
       "    }\n",
       "\n",
       "    .dataframe tbody tr th {\n",
       "        vertical-align: top;\n",
       "    }\n",
       "\n",
       "    .dataframe thead th {\n",
       "        text-align: right;\n",
       "    }\n",
       "</style>\n",
       "<table border=\"1\" class=\"dataframe\">\n",
       "  <thead>\n",
       "    <tr style=\"text-align: right;\">\n",
       "      <th></th>\n",
       "      <th>#date</th>\n",
       "      <th>sample</th>\n",
       "      <th>key</th>\n",
       "      <th>value</th>\n",
       "    </tr>\n",
       "  </thead>\n",
       "  <tbody>\n",
       "    <tr>\n",
       "      <th>0</th>\n",
       "      <td>1</td>\n",
       "      <td>0</td>\n",
       "      <td>0</td>\n",
       "      <td>0.020238</td>\n",
       "    </tr>\n",
       "    <tr>\n",
       "      <th>1</th>\n",
       "      <td>1</td>\n",
       "      <td>0</td>\n",
       "      <td>1</td>\n",
       "      <td>1.004880</td>\n",
       "    </tr>\n",
       "    <tr>\n",
       "      <th>2</th>\n",
       "      <td>1</td>\n",
       "      <td>1</td>\n",
       "      <td>0</td>\n",
       "      <td>0.021744</td>\n",
       "    </tr>\n",
       "    <tr>\n",
       "      <th>3</th>\n",
       "      <td>1</td>\n",
       "      <td>1</td>\n",
       "      <td>1</td>\n",
       "      <td>1.005247</td>\n",
       "    </tr>\n",
       "    <tr>\n",
       "      <th>4</th>\n",
       "      <td>1</td>\n",
       "      <td>2</td>\n",
       "      <td>0</td>\n",
       "      <td>0.018733</td>\n",
       "    </tr>\n",
       "    <tr>\n",
       "      <th>...</th>\n",
       "      <td>...</td>\n",
       "      <td>...</td>\n",
       "      <td>...</td>\n",
       "      <td>...</td>\n",
       "    </tr>\n",
       "    <tr>\n",
       "      <th>161995</th>\n",
       "      <td>81</td>\n",
       "      <td>997</td>\n",
       "      <td>1</td>\n",
       "      <td>1.725424</td>\n",
       "    </tr>\n",
       "    <tr>\n",
       "      <th>161996</th>\n",
       "      <td>81</td>\n",
       "      <td>998</td>\n",
       "      <td>0</td>\n",
       "      <td>0.010898</td>\n",
       "    </tr>\n",
       "    <tr>\n",
       "      <th>161997</th>\n",
       "      <td>81</td>\n",
       "      <td>998</td>\n",
       "      <td>1</td>\n",
       "      <td>1.114598</td>\n",
       "    </tr>\n",
       "    <tr>\n",
       "      <th>161998</th>\n",
       "      <td>81</td>\n",
       "      <td>999</td>\n",
       "      <td>0</td>\n",
       "      <td>0.017203</td>\n",
       "    </tr>\n",
       "    <tr>\n",
       "      <th>161999</th>\n",
       "      <td>81</td>\n",
       "      <td>999</td>\n",
       "      <td>1</td>\n",
       "      <td>1.326428</td>\n",
       "    </tr>\n",
       "  </tbody>\n",
       "</table>\n",
       "<p>162000 rows × 4 columns</p>\n",
       "</div>"
      ],
      "text/plain": [
       "        #date  sample  key     value\n",
       "0           1       0    0  0.020238\n",
       "1           1       0    1  1.004880\n",
       "2           1       1    0  0.021744\n",
       "3           1       1    1  1.005247\n",
       "4           1       2    0  0.018733\n",
       "...       ...     ...  ...       ...\n",
       "161995     81     997    1  1.725424\n",
       "161996     81     998    0  0.010898\n",
       "161997     81     998    1  1.114598\n",
       "161998     81     999    0  0.017203\n",
       "161999     81     999    1  1.326428\n",
       "\n",
       "[162000 rows x 4 columns]"
      ]
     },
     "execution_count": 51,
     "metadata": {},
     "output_type": "execute_result"
    }
   ],
   "source": [
    "import pandas as pd\n",
    "pd.read_csv(\"Output/scenariodata.csv\", skiprows=5)"
   ]
  },
  {
   "cell_type": "code",
   "execution_count": 43,
   "metadata": {
    "extensions": {
     "jupyter_dashboards": {
      "version": 1,
      "views": {
       "grid_default": {
        "col": 0,
        "height": 7,
        "hidden": false,
        "row": 9,
        "width": 12
       },
       "report_default": {
        "hidden": true
       }
      }
     }
    },
    "tags": []
   },
   "outputs": [
    {
     "name": "stdout",
     "output_type": "stream",
     "text": [
      "dates:   1\n",
      "samples: 0\n",
      "keys:    0\n"
     ]
    },
    {
     "ename": "IndexError",
     "evalue": "list index out of range",
     "output_type": "error",
     "traceback": [
      "\u001b[1;31m---------------------------------------------------------------------------\u001b[0m",
      "\u001b[1;31mIndexError\u001b[0m                                Traceback (most recent call last)",
      "\u001b[1;32mC:\\Users\\s9321b\\AppData\\Local\\Temp\\ipykernel_49864\\1672535928.py\u001b[0m in \u001b[0;36m<module>\u001b[1;34m\u001b[0m\n\u001b[0;32m      9\u001b[0m \u001b[0mfixing\u001b[0m \u001b[1;33m=\u001b[0m \u001b[0meoniaIndex\u001b[0m\u001b[1;33m.\u001b[0m\u001b[0mfixing\u001b[0m\u001b[1;33m(\u001b[0m\u001b[0minputs\u001b[0m\u001b[1;33m.\u001b[0m\u001b[0masof\u001b[0m\u001b[1;33m(\u001b[0m\u001b[1;33m)\u001b[0m\u001b[1;33m)\u001b[0m\u001b[1;33m\u001b[0m\u001b[1;33m\u001b[0m\u001b[0m\n\u001b[0;32m     10\u001b[0m \u001b[1;31m# We have outsourced the data loading and plotting to utilities\u001b[0m\u001b[1;33m\u001b[0m\u001b[1;33m\u001b[0m\u001b[1;33m\u001b[0m\u001b[0m\n\u001b[1;32m---> 11\u001b[1;33m \u001b[0mutilities\u001b[0m\u001b[1;33m.\u001b[0m\u001b[0mplotScenarioDataPaths\u001b[0m\u001b[1;33m(\u001b[0m\u001b[1;34m\"Output/scenariodata.csv.gz\"\u001b[0m\u001b[1;33m,\u001b[0m \u001b[0mkeyNumber\u001b[0m\u001b[1;33m,\u001b[0m \u001b[0mnumberOfPaths\u001b[0m\u001b[1;33m,\u001b[0m \u001b[0mfixing\u001b[0m\u001b[1;33m)\u001b[0m\u001b[1;33m\u001b[0m\u001b[1;33m\u001b[0m\u001b[0m\n\u001b[0m\u001b[0;32m     12\u001b[0m \u001b[1;31m# Todos:\u001b[0m\u001b[1;33m\u001b[0m\u001b[1;33m\u001b[0m\u001b[1;33m\u001b[0m\u001b[0m\n\u001b[0;32m     13\u001b[0m \u001b[1;31m# 1) add t0 fixings to the scenariodata object and file\u001b[0m\u001b[1;33m\u001b[0m\u001b[1;33m\u001b[0m\u001b[1;33m\u001b[0m\u001b[0m\n",
      "\u001b[1;32mC:\\ws\\git\\ore9\\ORE-SWIG\\OREAnalytics-SWIG\\Python\\Examples\\Notebooks\\utilities.py\u001b[0m in \u001b[0;36mplotScenarioDataPaths\u001b[1;34m(gzFileName, keyNumber, numberOfPaths, fixing)\u001b[0m\n\u001b[0;32m    248\u001b[0m \u001b[1;33m\u001b[0m\u001b[0m\n\u001b[0;32m    249\u001b[0m     \u001b[1;32mfor\u001b[0m \u001b[0mp\u001b[0m \u001b[1;32min\u001b[0m \u001b[0mrange\u001b[0m\u001b[1;33m(\u001b[0m\u001b[1;36m1\u001b[0m\u001b[1;33m,\u001b[0m \u001b[0mnumberOfPaths\u001b[0m\u001b[1;33m+\u001b[0m\u001b[1;36m1\u001b[0m\u001b[1;33m)\u001b[0m\u001b[1;33m:\u001b[0m\u001b[1;33m\u001b[0m\u001b[1;33m\u001b[0m\u001b[0m\n\u001b[1;32m--> 250\u001b[1;33m         \u001b[0max0\u001b[0m\u001b[1;33m.\u001b[0m\u001b[0mplot\u001b[0m\u001b[1;33m(\u001b[0m\u001b[0mdates\u001b[0m\u001b[1;33m,\u001b[0m \u001b[0mvalues\u001b[0m\u001b[1;33m[\u001b[0m\u001b[0mp\u001b[0m\u001b[1;33m]\u001b[0m\u001b[1;33m,\u001b[0m \u001b[0mlabel\u001b[0m\u001b[1;33m=\u001b[0m\u001b[1;34m''\u001b[0m\u001b[1;33m)\u001b[0m\u001b[1;33m\u001b[0m\u001b[1;33m\u001b[0m\u001b[0m\n\u001b[0m\u001b[0;32m    251\u001b[0m         \u001b[0max0\u001b[0m\u001b[1;33m.\u001b[0m\u001b[0mset\u001b[0m\u001b[1;33m(\u001b[0m\u001b[0mxlabel\u001b[0m\u001b[1;33m=\u001b[0m\u001b[1;34m'Time'\u001b[0m\u001b[1;33m,\u001b[0m \u001b[0mylabel\u001b[0m\u001b[1;33m=\u001b[0m\u001b[1;34m'Rate'\u001b[0m\u001b[1;33m)\u001b[0m\u001b[1;33m\u001b[0m\u001b[1;33m\u001b[0m\u001b[0m\n\u001b[0;32m    252\u001b[0m         \u001b[0max0\u001b[0m\u001b[1;33m.\u001b[0m\u001b[0mset_title\u001b[0m\u001b[1;33m(\u001b[0m\u001b[1;34m'Selected Market Data Paths'\u001b[0m\u001b[1;33m)\u001b[0m\u001b[1;33m\u001b[0m\u001b[1;33m\u001b[0m\u001b[0m\n",
      "\u001b[1;31mIndexError\u001b[0m: list index out of range"
     ]
    },
    {
     "data": {
      "image/png": "[encoded data removed]",
      "text/plain": [
       "<Figure size 1200x500 with 1 Axes>"
      ]
     },
     "metadata": {},
     "output_type": "display_data"
    }
   ],
   "source": [
    "# FIXME: copy scenariodata.dat to scenariodata.csv.gz for the following to work\n",
    "keyNumber = 0 # we store a single index (EONIA) in this case, hence key=0, compare to the file header\n",
    "# The number of paths we want to see\n",
    "numberOfPaths = 10\n",
    "# Pick the t0 index fixing and pass it to the plot function below as starting point\n",
    "analytic = ore.getAnalytic(\"XVA\")\n",
    "market = analytic.getMarket()\n",
    "eoniaIndex = market.iborIndex(\"EUR-EONIA\")\n",
    "fixing = eoniaIndex.fixing(inputs.asof())\n",
    "# We have outsourced the data loading and plotting to utilities\n",
    "utilities.plotScenarioDataPaths(\"Output/scenariodata.csv.gz\", keyNumber, numberOfPaths, fixing)\n",
    "# Todos:\n",
    "# 1) add t0 fixings to the scenariodata object and file\n",
    "# 2) fix the file name extension to write .csv.gz by default (oreapp.cpp)\n",
    "# 3) extend the oreapp interface so that we can retrieve the scenariodata in memory"
   ]
  },
  {
   "cell_type": "code",
   "execution_count": 36,
   "metadata": {
    "extensions": {
     "jupyter_dashboards": {
      "version": 1,
      "views": {
       "grid_default": {
        "col": 0,
        "height": 7,
        "hidden": false,
        "row": 9,
        "width": 12
       },
       "report_default": {
        "hidden": true
       }
      }
     }
    },
    "tags": []
   },
   "outputs": [
    {
     "name": "stdout",
     "output_type": "stream",
     "text": [
      "dates: 82\n",
      "samples: 1001\n",
      "depths: 1\n"
     ]
    },
    {
     "data": {
      "image/png": "[encoded data removed]",
      "text/plain": [
       "<Figure size 1200x500 with 1 Axes>"
      ]
     },
     "metadata": {},
     "output_type": "display_data"
    }
   ],
   "source": [
    "# Plotting the NPV paths is easier, since the cube report contains t0\n",
    "cubeReport = ore.getReport(\"netcube\")\n",
    "numberOfPaths = 10\n",
    "utilities.plotNpvPaths(cubeReport, numberOfPaths)"
   ]
  },
  {
   "cell_type": "code",
   "execution_count": 37,
   "metadata": {
    "tags": []
   },
   "outputs": [
    {
     "name": "stdout",
     "output_type": "stream",
     "text": [
      "Report:  exposure_trade_Swap\n",
      "columns: 10\n",
      "rows:    25\n",
      "\n",
      "Column Header               Type     TypeString\n",
      "0      TradeId              2        string    \n",
      "1      IsPar                2        string    \n",
      "2      Factor_1             2        string    \n",
      "3      ShiftSize_1          1        Real      \n",
      "4      Factor_2             2        string    \n",
      "5      ShiftSize_2          1        Real      \n",
      "6      Currency             2        string    \n",
      "7      Base NPV             1        Real      \n",
      "8      Delta                1        Real      \n",
      "9      Gamma                1        Real      \n"
     ]
    }
   ],
   "source": [
    "reportName = \"exposure_trade_Swap\"\n",
    "report = ore.getReport(reportName)\n",
    "utilities.checkReportStructure(reportName, rawReport)"
   ]
  },
  {
   "cell_type": "code",
   "execution_count": 38,
   "metadata": {
    "tags": []
   },
   "outputs": [
    {
     "data": {
      "image/png": "[encoded data removed]",
      "text/plain": [
       "<Figure size 1000x500 with 1 Axes>"
      ]
     },
     "metadata": {},
     "output_type": "display_data"
    }
   ],
   "source": [
    "time = report.dataAsReal(2)\n",
    "epe = report.dataAsReal(3);\n",
    "ene = report.dataAsReal(4);\n",
    "pfe = report.dataAsReal(7);\n",
    "    \n",
    "import matplotlib.pyplot as plt\n",
    "fig = plt.figure(figsize=(10, 5))\n",
    "gs = GridSpec(nrows=1, ncols=1)\n",
    "ax = fig.add_subplot(gs[0, 0])\n",
    "\n",
    "ax.plot(time, epe, label='Swap EPE')\n",
    "ax.plot(time, ene, label='Swap ENE')\n",
    "ax.plot(time, pfe, label='Swap PFE')\n",
    "ax.set(xlabel='Time/Years')\n",
    "ax.set(ylabel='Exposure')\n",
    "ax.set_title('Exposure')\n",
    "ax.legend()\n",
    "\n",
    "plt.show()"
   ]
  },
  {
   "cell_type": "markdown",
   "metadata": {
    "extensions": {
     "jupyter_dashboards": {
      "version": 1,
      "views": {
       "grid_default": {
        "col": 0,
        "height": 4,
        "hidden": true,
        "row": 31,
        "width": 4
       },
       "report_default": {
        "hidden": false
       }
      }
     }
    }
   },
   "source": [
    "Finally, we can pick the trade or netting set CVA result from the xva report:"
   ]
  },
  {
   "cell_type": "code",
   "execution_count": 39,
   "metadata": {
    "tags": []
   },
   "outputs": [
    {
     "name": "stdout",
     "output_type": "stream",
     "text": [
      "Report:  xva\n",
      "columns: 10\n",
      "rows:    25\n",
      "\n",
      "Column Header               Type     TypeString\n",
      "0      TradeId              2        string    \n",
      "1      IsPar                2        string    \n",
      "2      Factor_1             2        string    \n",
      "3      ShiftSize_1          1        Real      \n",
      "4      Factor_2             2        string    \n",
      "5      ShiftSize_2          1        Real      \n",
      "6      Currency             2        string    \n",
      "7      Base NPV             1        Real      \n",
      "8      Delta                1        Real      \n",
      "9      Gamma                1        Real      \n"
     ]
    }
   ],
   "source": [
    "reportName = \"xva\"\n",
    "report = ore.getReport(reportName)\n",
    "utilities.checkReportStructure(reportName, rawReport)"
   ]
  },
  {
   "cell_type": "code",
   "execution_count": 40,
   "metadata": {
    "tags": []
   },
   "outputs": [
    {
     "name": "stdout",
     "output_type": "stream",
     "text": [
      "\n",
      "TradeId            NettingSetId       CVA                \n",
      "                   CPTY_A             19726.12           \n",
      "Swap               CPTY_A             19726.12           \n"
     ]
    }
   ],
   "source": [
    "utilities.writeReport(report, [0, 1, 2])"
   ]
  },
  {
   "cell_type": "code",
   "execution_count": null,
   "metadata": {},
   "outputs": [],
   "source": []
  }
 ],
 "metadata": {
  "anaconda-cloud": {},
  "extensions": {
   "jupyter_dashboards": {
    "activeView": "report_default",
    "version": 1,
    "views": {
     "grid_default": {
      "cellMargin": 10,
      "defaultCellHeight": 20,
      "maxColumns": 12,
      "name": "grid",
      "type": "grid"
     },
     "report_default": {
      "name": "report",
      "type": "report"
     }
    }
   }
  },
  "kernelspec": {
   "display_name": "Python 3 (ipykernel)",
   "language": "python",
   "name": "python3"
  },
  "language_info": {
   "codemirror_mode": {
    "name": "ipython",
    "version": 3
   },
   "file_extension": ".py",
   "mimetype": "text/x-python",
   "name": "python",
   "nbconvert_exporter": "python",
   "pygments_lexer": "ipython3",
   "version": "3.7.9"
  },
  "widgets": {
   "state": {
    "706c717787fc48baacd29c35c5b92bba": {
     "views": [
      {
       "cell_index": 13
      }
     ]
    }
   },
   "version": "1.2.0"
  }
 },
 "nbformat": 4,
 "nbformat_minor": 4
}
